{
  "nbformat": 4,
  "nbformat_minor": 0,
  "metadata": {
    "colab": {
      "name": "Assignment-Covid_risk-2.ipynb",
      "provenance": [],
      "collapsed_sections": [],
      "authorship_tag": "ABX9TyOGT1zHs/kvTMbyuNiN8ANB",
      "include_colab_link": true
    },
    "kernelspec": {
      "name": "python3",
      "display_name": "Python 3"
    },
    "language_info": {
      "name": "python"
    }
  },
  "cells": [
    {
      "cell_type": "markdown",
      "metadata": {
        "id": "view-in-github",
        "colab_type": "text"
      },
      "source": [
        "<a href=\"https://colab.research.google.com/github/hakancar/Python_Assignment-Covid-19-Risk/blob/main/Assignment_Covid_risk_2.ipynb\" target=\"_parent\"><img src=\"https://colab.research.google.com/assets/colab-badge.svg\" alt=\"Open In Colab\"/></a>"
      ]
    },
    {
      "cell_type": "code",
      "metadata": {
        "colab": {
          "base_uri": "https://localhost:8080/"
        },
        "id": "p4djA7sOJrMt",
        "outputId": "cfe7fe9d-54e0-4072-dea3-0ca4f83b1ec1"
      },
      "source": [
        "# age = True  # can be assigned only True/False\n",
        "# chronic = True # can be assigned only True/False\n",
        "# immune = True # can be assigned only True/False\n",
        "risky = []\n",
        "print(\"Plase answer the questions as yes or no\")\n",
        "age = input(\"Are you a cigarette addict older than 75 years old? :  \").lower()\n",
        "risky.append(age)\n",
        "chronic = input(\"Do you have a severe chronic disease? :  \").lower()\n",
        "risky.append(chronic)\n",
        "immune = input(\"Is your immune system too weak? : \").lower()\n",
        "risky.append(immune)\n",
        "print(risky)\n",
        "if \"yes\" in risky:\n",
        "  print(\"You are in risky group\")  \n",
        "else:\n",
        "  print(\"You are not in risky group\")"
      ],
      "execution_count": null,
      "outputs": [
        {
          "output_type": "stream",
          "text": [
            "Plase answer the questions as yes or no\n",
            "Are you a cigarette addict older than 75 years old? :  YES\n",
            "Do you have a severe chronic disease? :  No\n",
            "Is your immune system too weak? : NO\n",
            "['yes', 'no', 'no']\n",
            "You are in risky group\n"
          ],
          "name": "stdout"
        }
      ]
    }
  ]
}