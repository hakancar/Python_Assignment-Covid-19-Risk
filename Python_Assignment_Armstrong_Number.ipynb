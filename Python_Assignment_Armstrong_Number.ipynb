{
  "nbformat": 4,
  "nbformat_minor": 0,
  "metadata": {
    "colab": {
      "name": "Python_Assignment-Armstrong Number.ipynb",
      "provenance": [],
      "authorship_tag": "ABX9TyMWyFMefklFpY9M3p5rLFyj",
      "include_colab_link": true
    },
    "kernelspec": {
      "name": "python3",
      "display_name": "Python 3"
    },
    "language_info": {
      "name": "python"
    }
  },
  "cells": [
    {
      "cell_type": "markdown",
      "metadata": {
        "id": "view-in-github",
        "colab_type": "text"
      },
      "source": [
        "<a href=\"https://colab.research.google.com/github/hakancar/Python_Assignment-Covid-19-Risk/blob/main/Python_Assignment_Armstrong_Number.ipynb\" target=\"_parent\"><img src=\"https://colab.research.google.com/assets/colab-badge.svg\" alt=\"Open In Colab\"/></a>"
      ]
    },
    {
      "cell_type": "code",
      "metadata": {
        "colab": {
          "base_uri": "https://localhost:8080/"
        },
        "id": "15RgH6UrYzW8",
        "outputId": "2a97089f-68ce-4af0-9f77-1a5cb8183014"
      },
      "source": [
        "number_str = input(\"please enter a positive integer number: \")\n",
        "while True:\n",
        "  if (not number_str.isnumeric()) or (number_str == '0') :\n",
        "    number_str = input(\"It is an invalid entry. Don't use non-numeric, \\nfloat, zero or negative values! : \")\n",
        "  else:\n",
        "    break\n",
        "number_list = list(number_str)\n",
        "number_list_int = []\n",
        "number_int = int(number_str)\n",
        "n = len(number_list)\n",
        "i = 0\n",
        "for i in number_list:\n",
        "  i = int(i)\n",
        "  number_list_int.append(i)\n",
        "sum = 0\n",
        "for ii in number_list_int:\n",
        "  sum = sum + ii ** n\n",
        "if sum == number_int:\n",
        "  print(\"That's great! Your number is Armstrong Number\")\n",
        "else:\n",
        "  print(\"Oops! Your number is not Armstrong Number, please try again\")"
      ],
      "execution_count": 25,
      "outputs": [
        {
          "output_type": "stream",
          "text": [
            "please enter a positive integer number: 0\n",
            "It is an invalid entry. Don't use non-numeric, \n",
            "float, zero or negative values! : -5\n",
            "It is an invalid entry. Don't use non-numeric, \n",
            "float, zero or negative values! : 2.47\n",
            "It is an invalid entry. Don't use non-numeric, \n",
            "float, zero or negative values! : hello\n",
            "It is an invalid entry. Don't use non-numeric, \n",
            "float, zero or negative values! : 371\n",
            "That's great! Your number is Armstrong Number\n"
          ],
          "name": "stdout"
        }
      ]
    }
  ]
}